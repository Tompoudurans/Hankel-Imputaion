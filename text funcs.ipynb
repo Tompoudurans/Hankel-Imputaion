{
 "cells": [
  {
   "cell_type": "code",
   "execution_count": 1,
   "id": "01d10d1f",
   "metadata": {},
   "outputs": [],
   "source": [
    "import matplotlib.pyplot as mp"
   ]
  },
  {
   "cell_type": "code",
   "execution_count": 2,
   "id": "231dad0a",
   "metadata": {},
   "outputs": [],
   "source": [
    "from math import pi,cos,sqrt\n",
    "import numpy as np\n",
    "import scipy.linalg\n",
    "import cvxpy as cp"
   ]
  },
  {
   "cell_type": "code",
   "execution_count": null,
   "id": "b0ff93e0",
   "metadata": {},
   "outputs": [],
   "source": [
    "def loopar(y,trm,non,sigma):\n",
    "    mu = 0\n",
    "    for i in range(non):\n",
    "        bas = random.gauss(mu, sigma)\n",
    "        y.append(autor(y[i:i+len(trm)],trm) + bas)\n",
    "    return y\n",
    "\n",
    "def autor(x,trm):\n",
    "    y = 0\n",
    "    for i in range(len(trm)):\n",
    "        try:\n",
    "            y = y + x[i]*trm[i]\n",
    "        except IndexError:\n",
    "            return y\n",
    "    return y"
   ]
  },
  {
   "cell_type": "code",
   "execution_count": 3,
   "id": "39b8d227",
   "metadata": {},
   "outputs": [],
   "source": [
    "\n",
    "#### ISSUES:\n",
    "# orignal program does not work with missing values dispite what title says \n",
    "# what does ./ mean?\n",
    "\n",
    "def froweightold(L,K):\n",
    "    N=L+K-1\n",
    "    w = []\n",
    "    for i in range(1,L-1):\n",
    "        w.append(i)\n",
    "    for i in range(L,K):\n",
    "        w.append(L)\n",
    "    for i in range(K+1,N):\n",
    "        w.append(N-i+1)\n",
    "    return w\n",
    "    \n",
    "\n",
    "def hmat(vec,vert):\n",
    "    \"\"\"\n",
    "    hmat Hankel matrix from a vector \"vec\"\n",
    "\n",
    "    \"\"\"\n",
    "    hoz = 1 + len(vec) - vert\n",
    "    col = []\n",
    "    for i in range(vert):\n",
    "        row = np.array([])\n",
    "        for j in range(hoz):\n",
    "            row = np.append(row, vec[i + j,])\n",
    "        col.append(row)\n",
    "    return np.array(col)\n",
    "\n",
    "def create_data(N,sigma):\n",
    "    s = []\n",
    "    for n in range(N):\n",
    "        s.append(cos(2*pi*n/10)+3) # case 1\n",
    "        #s(n)=cos(2*pi*n/10)*exp(0.02*n) # case 2\n",
    "    r=sigma*np.random.uniform(0,1,N) \n",
    "    Y=s+r#.transpose()\n",
    "    return Y\n",
    "\n",
    "\n",
    "def hankvec_avg(X):\n",
    "    \"\"\"\n",
    "    hankvec Perform diagonal averaging \n",
    "    \"\"\"\n",
    "    L,K = X.shape\n",
    "    Xbase = np.append(X,np.zeros(K*K))\n",
    "    bmat = Xbase[K:].reshape((K+L-1), K)\n",
    "    y = []\n",
    "    fws = froweights(K,L)\n",
    "    print(bmat.shape,len(fws))\n",
    "    for i in range(bmat.shape[0]):\n",
    "        y.append(sum(bmat[i,:])/fws[i])\n",
    "    return np.array(y)\n",
    "\n",
    "def lra(X,r):\n",
    "    [U,S,V2]= scipy.linalg.svd(X,full_matrices=False) # U,S,V] = SVD(X,\"econ\") produces the \"economy size\"\n",
    "    S2 = S*np.identity(len(S))\n",
    "    for i in range(r,len(S)):\n",
    "        S2[i,i] = 0 #add 0s and the end for forcasting - replace by a mask instead?\n",
    "    print(U.shape,S2.shape,S.shape,V2.shape)\n",
    "    return np.matmul(U,np.matmul(S2,V2))#\n",
    "\n",
    "def mcwf(Y,L,M,w,e):\n",
    "    \"\"\"\n",
    "    Weighted vectors with forecast\n",
    "    \"\"\"\n",
    "    N=len(w)\n",
    "    e = 1.07\n",
    "    x = N+m\n",
    "    Yapp = cp.Variable(x)\n",
    "    objective = cp.Minimize(cp.normNuc(cphanker(Yapp[:L],Yapp[L:N])))\n",
    "    constraints = [cp.norm(cp.matmul(cp.sqrt(w),(Y[:N]-Yapp[:N]))) <= e]\n",
    "    prob = cp.Problem(objective, constraints)\n",
    "    result = prob.solve()\n",
    "    return result,Yapp\n",
    "    \n",
    "def mcw(Y,L,w,e):\n",
    "    \"\"\"\n",
    "    Weighted vectors\n",
    "    \"\"\"\n",
    "    N=len(Y);\n",
    "    #cvx_begin sdp;\n",
    "    #%cvx_solver mosek;\n",
    "    #%cvx_precision low;\n",
    "    Yapp = cp.Variable(N);\n",
    "    objective = cp.Minimize(cp.normNuc(cphanker(Yapp[:L],Yapp[L:N])))\n",
    "    constraints = [cp.norm(cp.sqrt(w) @ (Y-Yapp)) <=e] \n",
    "    prob = cp.Problem(objective, constraints)\n",
    "    result = prob.solve()\n",
    "    return result\n",
    "\n",
    "def wvnorm(y,w):\n",
    "    \"\"\"\n",
    "    wvnorm Compute weighted vector norm given a vector y and a \n",
    "    vector of weights w\n",
    "    \"\"\"\n",
    "    tot = []\n",
    "    for i in range(len(w)):\n",
    "        tot.append(w[i]*(y[i]**2))\n",
    "    return sum(tot)\n",
    "\n",
    "def froweights(L,K):\n",
    "    N=L+K-1\n",
    "    w = []\n",
    "    for i in range(1,L-1):\n",
    "        w = hyperpend(w,i,i)\n",
    "    for i in range(L,K):\n",
    "        w = hyperpend(w,L,i)\n",
    "    for i in range(K,N):\n",
    "        w = hyperpend(w,N-i+1,i)\n",
    "    return np.array(w)\n",
    "\n",
    "def hyperpend(vec,a,pos):\n",
    "    try:\n",
    "        vec[pos] = a\n",
    "    except IndexError:\n",
    "        vec.append(a)\n",
    "    return vec\n",
    "\n",
    "def hanker(row,reman):\n",
    "    hank = []\n",
    "    xi = row.shape[0]\n",
    "    for i in range(xi):\n",
    "        hank.append(np.append(row[:xi-i],reman[1:xi+i+1]))\n",
    "    return np.array(hank)\n",
    "\n",
    "def cphanker(row,reman):\n",
    "    hank = []\n",
    "    xi = row.shape[0]\n",
    "    for i in range(xi):\n",
    "        hank.append(np.append(row[:xi-i],reman[1:xi+i+1]))\n",
    "    return cp.bmat(hank)"
   ]
  },
  {
   "cell_type": "code",
   "execution_count": 4,
   "id": "d0136526",
   "metadata": {},
   "outputs": [],
   "source": [
    "def mcwf(Y,L,M,w,e):\n",
    "    \"\"\"\n",
    "    Weighted vectors with forecast\n",
    "    \"\"\"\n",
    "    N=len(w)\n",
    "    x = N+M\n",
    "    Yapp = cp.Variable(x)\n",
    "    objective = cp.Minimize(cp.normNuc(cphanker(Yapp[:L],Yapp[L:N])))\n",
    "    constraints = [cp.norm((Y[:N]-Yapp[:N]) @ cp.sqrt(w)) <= e]\n",
    "    prob = cp.Problem(objective, constraints)\n",
    "    result = prob.solve()\n",
    "    return Yapp.value#,prob"
   ]
  },
  {
   "cell_type": "code",
   "execution_count": 5,
   "id": "6809c16a",
   "metadata": {},
   "outputs": [],
   "source": [
    "def mcwf2(Y,L,M,w,e):\n",
    "    \"\"\"\n",
    "    Weighted vectors with forecast\n",
    "    \"\"\"\n",
    "    N=len(Y)\n",
    "    x = N+M\n",
    "    Yapp = cp.Variable(N)\n",
    "    objective = cp.Minimize(cp.normNuc(cphanker(Yapp[:L],Yapp[L:N])))\n",
    "    constraints = [cp.norm((Y[:]-Yapp[:])) <= e]\n",
    "    prob = cp.Problem(objective, constraints)\n",
    "    result = prob.solve()\n",
    "    return Yapp.value#,prob"
   ]
  },
  {
   "cell_type": "code",
   "execution_count": 8,
   "id": "1fa5ff4d",
   "metadata": {
    "scrolled": false
   },
   "outputs": [
    {
     "name": "stdout",
     "output_type": "stream",
     "text": [
      "(10, 10) (10, 10) (10,) (10, 34)\n",
      "(43, 34) 43\n",
      "(10, 10) (10, 10) (10,) (10, 34)\n",
      "(43, 34) 43\n",
      "(10, 10) (10, 10) (10,) (10, 34)\n",
      "(43, 34) 43\n",
      "167.2354265887025 122.11758523267869 126.89842024852219\n"
     ]
    }
   ],
   "source": [
    "N = 50\n",
    "Y = create_data(N,0.1)\n",
    "N_sim=1\n",
    "L=10\n",
    "k=2\n",
    "m = 7\n",
    "last = len(Y)-m\n",
    "X=hmat(Y[:last],L)\n",
    "wF=froweights(L,X.shape[1])\n",
    "wUnit=np.ones(N-m)\n",
    "wExp = []\n",
    "for i in range(1,N-m):\n",
    "    wExp.append(1.03**i)\n",
    "wExp=np.array(wExp)\n",
    "Ftotrans = Y[:last]\n",
    "Ftohankav = lra(X,k)\n",
    "Ftonorm = hankvec_avg(Ftohankav)-Ftotrans.transpose()\n",
    "Ftosqrt = wvnorm(Ftonorm,wF)\n",
    "tauF=sqrt(Ftosqrt)\n",
    "tauUnit=sqrt(wvnorm(hankvec_avg(lra(X,k))-Y[:last].transpose(),wUnit))\n",
    "tauExp=sqrt(wvnorm(hankvec_avg(lra(X,k))-Y[:last].transpose(),wExp))\n",
    "print(tauF,tauUnit,tauExp)\n",
    "#print(\"F\",tauF,tauUnit,tauExp)\n",
    "Ya = mcwf(Ftotrans.transpose(),L,m,wF,tauF/100)\n",
    "Ya_unit=mcwf(Y[:last].transpose(),L,m,wUnit,tauUnit/100)\n",
    "Ya2=mcwf2(Y[:last].transpose(),L,m,wUnit,tauUnit/100)\n",
    "Ya_exp=mcwf(Y[:last].transpose(),L,m,wExp,tauExp/100)"
   ]
  },
  {
   "cell_type": "code",
   "execution_count": 384,
   "id": "223a5846",
   "metadata": {},
   "outputs": [
    {
     "data": {
      "text/plain": [
       "99.70787963363227"
      ]
     },
     "execution_count": 384,
     "metadata": {},
     "output_type": "execute_result"
    }
   ],
   "source": [
    "np.linalg.norm(Y[:91]-Ya_unit[:91]*np.sqrt(wUnit[:91]))"
   ]
  },
  {
   "cell_type": "code",
   "execution_count": 9,
   "id": "99ddf6a9",
   "metadata": {},
   "outputs": [
    {
     "data": {
      "text/plain": [
       "array([3.84354753, 3.59989872, 3.21412937, 2.71563932, 2.27750752,\n",
       "       2.10155252, 2.34152646, 2.83162487, 3.30214886, 3.65972303,\n",
       "       4.01740085, 3.23441928, 3.05919363, 2.7508937 , 2.44700491,\n",
       "       2.30404118, 2.4012206 , 2.71078093, 3.12499395, 3.45642705,\n",
       "       3.59250222, 3.48411622, 3.13772367, 2.69039981, 2.30677226,\n",
       "       2.14789224, 2.3221243 , 2.74950113, 3.28000982, 3.79382288,\n",
       "       4.0809488 , 3.83939755, 3.37067663, 2.70558961, 2.21475848,\n",
       "       2.08291077, 2.29071822, 2.71739026, 3.33156139, 3.87301036,\n",
       "       4.07616473, 3.88220427, 3.35714594])"
      ]
     },
     "execution_count": 9,
     "metadata": {},
     "output_type": "execute_result"
    }
   ],
   "source": [
    "Ya2"
   ]
  },
  {
   "cell_type": "code",
   "execution_count": 10,
   "id": "b32fa3c2",
   "metadata": {
    "scrolled": false
   },
   "outputs": [
    {
     "data": {
      "text/plain": [
       "[<matplotlib.lines.Line2D at 0x7f935cff9450>]"
      ]
     },
     "execution_count": 10,
     "metadata": {},
     "output_type": "execute_result"
    },
    {
     "data": {
      "image/png": "[encoded data removed]",
      "text/plain": [
       "<Figure size 432x288 with 1 Axes>"
      ]
     },
     "metadata": {
      "needs_background": "light"
     },
     "output_type": "display_data"
    }
   ],
   "source": [
    "mp.plot(Y[:43]-Ya_unit[:43]*np.sqrt(wUnit[:43]))"
   ]
  },
  {
   "cell_type": "code",
   "execution_count": 387,
   "id": "7b16d7ff",
   "metadata": {},
   "outputs": [
    {
     "data": {
      "text/plain": [
       "array([1.        , 1.41421356, 1.73205081, 2.        , 2.23606798,\n",
       "       2.44948974, 2.64575131, 2.82842712, 3.        , 3.16227766,\n",
       "       3.31662479, 3.46410162, 3.60555128, 3.74165739, 3.87298335,\n",
       "       4.        , 4.12310563, 4.24264069, 4.35889894, 4.47213595,\n",
       "       4.58257569, 4.69041576, 4.79583152, 4.89897949, 5.        ,\n",
       "       5.09901951, 5.19615242, 5.29150262, 5.47722558, 5.47722558,\n",
       "       5.47722558, 5.47722558, 5.47722558, 5.47722558, 5.47722558,\n",
       "       5.47722558, 5.47722558, 5.47722558, 5.47722558, 5.47722558,\n",
       "       5.47722558, 5.47722558, 5.47722558, 5.47722558, 5.47722558,\n",
       "       5.47722558, 5.47722558, 5.47722558, 5.47722558, 5.47722558,\n",
       "       5.47722558, 5.47722558, 5.47722558, 5.47722558, 5.47722558,\n",
       "       5.47722558, 5.47722558, 5.47722558, 5.47722558, 5.47722558,\n",
       "       5.47722558, 5.47722558, 5.47722558, 5.38516481, 5.29150262,\n",
       "       5.19615242, 5.09901951, 5.        , 4.89897949, 4.79583152,\n",
       "       4.69041576, 4.58257569, 4.47213595, 4.35889894, 4.24264069,\n",
       "       4.12310563, 4.        , 3.87298335, 3.74165739, 3.60555128,\n",
       "       3.46410162, 3.31662479, 3.16227766, 3.        , 2.82842712,\n",
       "       2.64575131, 2.44948974, 2.23606798, 2.        , 1.73205081,\n",
       "       1.41421356])"
      ]
     },
     "execution_count": 387,
     "metadata": {},
     "output_type": "execute_result"
    }
   ],
   "source": [
    "np.sqrt(wF)"
   ]
  },
  {
   "cell_type": "code",
   "execution_count": 12,
   "id": "65b23132",
   "metadata": {},
   "outputs": [
    {
     "data": {
      "text/plain": [
       "[<matplotlib.lines.Line2D at 0x7f935c286b10>]"
      ]
     },
     "execution_count": 12,
     "metadata": {},
     "output_type": "execute_result"
    },
    {
     "data": {
      "image/png": "[encoded data removed]",
      "text/plain": [
       "<Figure size 432x288 with 1 Axes>"
      ]
     },
     "metadata": {
      "needs_background": "light"
     },
     "output_type": "display_data"
    }
   ],
   "source": [
    "mp.plot(Y)\n",
    "mp.plot(Ya)"
   ]
  },
  {
   "cell_type": "code",
   "execution_count": 389,
   "id": "96e10093",
   "metadata": {},
   "outputs": [
    {
     "data": {
      "text/plain": [
       "[<matplotlib.lines.Line2D at 0x7f31259d3d90>]"
      ]
     },
     "execution_count": 389,
     "metadata": {},
     "output_type": "execute_result"
    },
    {
     "data": {
      "image/png": "[encoded data removed]",
      "text/plain": [
       "<Figure size 640x480 with 1 Axes>"
      ]
     },
     "metadata": {},
     "output_type": "display_data"
    }
   ],
   "source": [
    "mp.plot(Ya_exp)"
   ]
  },
  {
   "cell_type": "code",
   "execution_count": 15,
   "id": "7e13ab3a",
   "metadata": {},
   "outputs": [
    {
     "data": {
      "text/plain": [
       "array([2.45989644e-16, 3.60394474e-16, 4.57287660e-16, 5.44446879e-16,\n",
       "       6.36066746e-16, 7.24302226e-16, 8.14632371e-16, 9.08005116e-16,\n",
       "       1.00781378e-15, 1.11240117e-15, 1.22428029e-15, 1.34690260e-15,\n",
       "       1.47914129e-15, 1.62231014e-15, 1.78260231e-15, 1.96082424e-15,\n",
       "       2.16578274e-15, 2.39975040e-15, 2.66871583e-15, 2.97927831e-15,\n",
       "       3.35933667e-15, 3.81009059e-15, 4.37296138e-15, 5.10055527e-15,\n",
       "       6.04663560e-15, 7.39712847e-15, 9.34449924e-15, 1.26111300e-14,\n",
       "       1.92323430e-14, 3.65511229e-14, 1.09114993e+02, 1.09114993e+02,\n",
       "       1.34571575e-15, 1.34571575e-15, 1.34571575e-15, 1.34571575e-15,\n",
       "       1.34571575e-15, 1.34571575e-15, 1.34571575e-15, 1.34571575e-15,\n",
       "       1.34571575e-15, 1.34571575e-15, 1.34571575e-15, 1.34571575e-15,\n",
       "       1.34571575e-15, 1.34571575e-15, 1.34571575e-15, 1.34571575e-15,\n",
       "       1.34571575e-15, 1.34571575e-15, 1.34571575e-15, 1.34571575e-15,\n",
       "       1.34571575e-15, 1.34571575e-15, 1.34571575e-15, 1.34571575e-15,\n",
       "       1.34571575e-15, 1.34571575e-15, 1.34571575e-15, 1.34571575e-15,\n",
       "       1.34571575e-15, 1.34571575e-15, 1.39257855e-15, 1.41374426e-15,\n",
       "       1.44033134e-15, 1.47457568e-15, 1.49969664e-15, 1.53776689e-15,\n",
       "       1.56460509e-15, 1.60590582e-15, 1.64217296e-15, 1.68886699e-15,\n",
       "       1.73609399e-15, 1.78327669e-15, 1.83699954e-15, 1.89450247e-15,\n",
       "       1.96082424e-15, 2.03325376e-15, 2.11965129e-15, 2.22340476e-15,\n",
       "       2.31509752e-15, 2.43687391e-15, 2.58723259e-15, 2.75893421e-15,\n",
       "       2.97451452e-15, 3.25316196e-15, 3.60305656e-15, 4.10713574e-15,\n",
       "       4.89150998e-15, 6.32507529e-15, 1.02634179e-14, 0.00000000e+00,\n",
       "       0.00000000e+00, 0.00000000e+00, 0.00000000e+00, 0.00000000e+00,\n",
       "       0.00000000e+00, 0.00000000e+00])"
      ]
     },
     "execution_count": 15,
     "metadata": {},
     "output_type": "execute_result"
    }
   ],
   "source": [
    "Ya"
   ]
  },
  {
   "cell_type": "code",
   "execution_count": 181,
   "id": "68b2073a",
   "metadata": {},
   "outputs": [],
   "source": [
    "yarr = Ya[Ya <= 1]"
   ]
  },
  {
   "cell_type": "code",
   "execution_count": 16,
   "id": "e89b3169",
   "metadata": {},
   "outputs": [
    {
     "data": {
      "text/plain": [
       "[<matplotlib.lines.Line2D at 0x7f312efb09d0>]"
      ]
     },
     "execution_count": 16,
     "metadata": {},
     "output_type": "execute_result"
    },
    {
     "data": {
      "image/png": "[encoded data removed]",
      "text/plain": [
       "<Figure size 640x480 with 1 Axes>"
      ]
     },
     "metadata": {},
     "output_type": "display_data"
    }
   ],
   "source": [
    "mp.plot(Ftotrans)"
   ]
  },
  {
   "cell_type": "code",
   "execution_count": 182,
   "id": "9616edab",
   "metadata": {
    "scrolled": false
   },
   "outputs": [
    {
     "data": {
      "text/plain": [
       "[<matplotlib.lines.Line2D at 0x1d494b358a0>]"
      ]
     },
     "execution_count": 182,
     "metadata": {},
     "output_type": "execute_result"
    },
    {
     "data": {
      "image/png": "[encoded data removed]",
      "text/plain": [
       "<Figure size 640x480 with 1 Axes>"
      ]
     },
     "metadata": {},
     "output_type": "display_data"
    }
   ],
   "source": [
    "mp.plot(yarr)"
   ]
  },
  {
   "cell_type": "code",
   "execution_count": 69,
   "id": "b8f47a62",
   "metadata": {},
   "outputs": [
    {
     "data": {
      "text/plain": [
       "1.9698957530675786e-15"
      ]
     },
     "execution_count": 69,
     "metadata": {},
     "output_type": "execute_result"
    }
   ],
   "source": [
    "py.solve()"
   ]
  },
  {
   "cell_type": "code",
   "execution_count": 58,
   "id": "ac00a33d",
   "metadata": {},
   "outputs": [
    {
     "data": {
      "text/plain": [
       "<bound method Problem.get_problem_data of Problem(Minimize(Expression(CONVEX, NONNEGATIVE, ())), [Inequality(Expression(CONVEX, NONNEGATIVE, ()))])>"
      ]
     },
     "execution_count": 58,
     "metadata": {},
     "output_type": "execute_result"
    }
   ],
   "source": [
    "py.get_problem_data()"
   ]
  },
  {
   "cell_type": "code",
   "execution_count": 21,
   "id": "9e4521c2",
   "metadata": {},
   "outputs": [
    {
     "name": "stdout",
     "output_type": "stream",
     "text": [
      "Variable var604: value [-6.24292487e-18  7.62029377e-18  9.38831299e-18  2.81368852e-17\n",
      " -7.47598925e-18 -1.71346706e-17 -9.91142721e-18 -4.25978451e-17\n",
      "  1.00773243e-17 -2.16415672e-17  4.67093306e-01  6.47606057e-18\n",
      "  6.47606057e-18  6.47606057e-18  6.47606057e-18  6.47606057e-18\n",
      "  6.47606057e-18  6.47606057e-18  6.47606057e-18  6.47606057e-18\n",
      "  6.47606057e-18 -1.57881046e-17 -6.82543749e-17 -6.51156540e-17\n",
      "  2.84015925e-17 -6.15165077e-17 -2.89194273e-17  7.74284846e-17\n",
      " -8.03580094e-18 -8.42719044e-17  7.38539354e-01  8.52791786e-01\n",
      "  1.04445236e+00  0.00000000e+00  0.00000000e+00  0.00000000e+00\n",
      "  0.00000000e+00  0.00000000e+00  0.00000000e+00  0.00000000e+00\n",
      "  0.00000000e+00  0.00000000e+00  0.00000000e+00  0.00000000e+00\n",
      "  0.00000000e+00  0.00000000e+00  0.00000000e+00  0.00000000e+00]\n"
     ]
    }
   ],
   "source": [
    "for variable in py.variables():\n",
    "    print(\"Variable %s: value %s\" % (variable.name(), variable.value))"
   ]
  },
  {
   "cell_type": "code",
   "execution_count": 31,
   "id": "a79a565d",
   "metadata": {
    "scrolled": true
   },
   "outputs": [],
   "source": [
    "val = py.variables()[0].value"
   ]
  },
  {
   "cell_type": "code",
   "execution_count": 5,
   "id": "ece7eaaa",
   "metadata": {},
   "outputs": [],
   "source": [
    "def defulmain(\n",
    "    s,\n",
    "    N,\n",
    "    sigma=0.1,\n",
    "    N_sim=1,\n",
    "    L=10, # L =rows and k =colums n is size m is missing \n",
    "    k=2,\n",
    "    m = 15,\n",
    "    ):\n",
    "    Ya = []\n",
    "    Ya_unit = []\n",
    "    Ya_exp = []\n",
    "    last = len(Y)-m\n",
    "    X=hmat(Y[:last],L)\n",
    "    wF=froweights(L,X.shape[1])\n",
    "    wUnit=np.ones(N-m)\n",
    "    wExp = []\n",
    "    for i in range(1,N-m):\n",
    "        wExp.append(1.03**i)\n",
    "    wExp=np.array(wExp)\n",
    "    end = len(Y)\n",
    "    Ftotrans = Y[:end-m]\n",
    "    Ftohankav = lra(X,k)\n",
    "    Ftonorm = hankvec_avg(Ftohankav)-Ftotrans.transpose()\n",
    "    Ftosqrt = wvnorm(Ftonorm,wF)\n",
    "    tauF=sqrt(Ftosqrt)\n",
    "    tauUnit=sqrt(wvnorm(hankvec_avg(lra(X,k))-Y[1:end-m].transpose(),wUnit))\n",
    "    tauExp=sqrt(wvnorm(hankvec_avg(lra(X,k))-Y[1:end-m].transpose(),wExp))\n",
    "    print(\"F\",tauF,tauUnit,tauExp)\n",
    "    Ya=mcwf(Ftotrans.transpose(),L,m,wF,tauF)\n",
    "    a_unit=mcwf(Y[1:end-m].transpose(),L,m,wUnit,tauUnit)\n",
    "    Ya_exp=mcwf(Y[1:end-m].transpose(),L,m,wExp,tauExp)\n",
    "    return Ya\n"
   ]
  },
  {
   "cell_type": "code",
   "execution_count": 10,
   "id": "2d8ecf0a",
   "metadata": {},
   "outputs": [],
   "source": [
    "    L,K = X.shape"
   ]
  },
  {
   "cell_type": "code",
   "execution_count": 11,
   "id": "d26f6274",
   "metadata": {},
   "outputs": [
    {
     "name": "stdout",
     "output_type": "stream",
     "text": [
      "[1, 2, 3, 4, 5, 6, 7, 8, 9, 10, 11, 12, 13, 14, 15, 16, 17, 18, 19, 20, 21, 22, 23, 24, 25, 26, 35, 34, 33, 32, 31, 30, 29, 28, 27, 26, 25, 24, 23, 22, 21, 20, 19, 18, 17, 16, 15, 14, 13, 12, 11, 10, 9, 8, 7, 6, 5, 4, 3, 2] with len= 60\n"
     ]
    }
   ],
   "source": [
    "f = froweights(35,26)\n",
    "print(f,\"with len=\",len(f))"
   ]
  },
  {
   "cell_type": "code",
   "execution_count": 12,
   "id": "8c2e6c8b",
   "metadata": {},
   "outputs": [
    {
     "name": "stdout",
     "output_type": "stream",
     "text": [
      "(35, 26) 35\n"
     ]
    },
    {
     "data": {
      "text/plain": [
       "array([-1.72526056, -1.41977357, -0.95209992, -0.44292458,  0.00309627,\n",
       "        0.3003398 ,  0.4168693 ,  0.3662137 ,  0.20540483,  0.        ,\n",
       "        0.        ,  0.        ,  0.        ,  0.        ,  0.        ,\n",
       "        0.        ,  0.        ,  0.        ,  0.        ,  0.        ,\n",
       "        0.        ,  0.        ,  0.        ,  0.        ,  0.        ,\n",
       "        0.        ,  0.        ,  0.        ,  0.        ,  0.        ,\n",
       "        0.        ,  0.        ,  0.        ,  0.        ,  0.        ])"
      ]
     },
     "execution_count": 12,
     "metadata": {},
     "output_type": "execute_result"
    }
   ],
   "source": [
    "hankvec_avg(Ftohankav)"
   ]
  },
  {
   "cell_type": "code",
   "execution_count": 13,
   "id": "81715d31",
   "metadata": {},
   "outputs": [
    {
     "data": {
      "text/plain": [
       "array([ 1.02608668,  0.90273276,  0.35833229, -0.24725901, -0.7128331 ,\n",
       "       -0.98409911, -0.73136518, -0.23717185,  0.39730732,  0.84561357,\n",
       "        1.02519395,  0.82854719,  0.31993176, -0.24533749, -0.73864638,\n",
       "       -0.93313253, -0.72530742, -0.28376255,  0.3419647 ,  0.88535568,\n",
       "        1.07315674,  0.83816266,  0.31714444, -0.24935829, -0.78821047,\n",
       "       -0.91776488, -0.77106501, -0.26926684,  0.31976254,  0.89067049,\n",
       "        1.02094298,  0.85587736,  0.30999459, -0.21576906, -0.77113754])"
      ]
     },
     "execution_count": 13,
     "metadata": {},
     "output_type": "execute_result"
    }
   ],
   "source": [
    "Ftotrans"
   ]
  },
  {
   "cell_type": "code",
   "execution_count": 14,
   "id": "3b45c71f",
   "metadata": {},
   "outputs": [],
   "source": [
    "Yapp = [None]*4"
   ]
  },
  {
   "cell_type": "code",
   "execution_count": 15,
   "id": "3e055ba5",
   "metadata": {},
   "outputs": [
    {
     "data": {
      "text/plain": [
       "[None, None, None, None]"
      ]
     },
     "execution_count": 15,
     "metadata": {},
     "output_type": "execute_result"
    }
   ],
   "source": [
    "Yapp"
   ]
  },
  {
   "cell_type": "code",
   "execution_count": 52,
   "id": "f2ada244",
   "metadata": {},
   "outputs": [
    {
     "data": {
      "text/plain": [
       "Variable((50, 30))"
      ]
     },
     "execution_count": 52,
     "metadata": {},
     "output_type": "execute_result"
    }
   ],
   "source": [
    "Yapp"
   ]
  },
  {
   "cell_type": "code",
   "execution_count": 65,
   "id": "842ac1c5",
   "metadata": {
    "scrolled": false
   },
   "outputs": [],
   "source": [
    "N=len(Y);\n",
    "#cvx_begin sdp;\n",
    "#variable Yapp(N+M);\n",
    "e = 1.07\n",
    "lenf = len(wF)\n",
    "Yapp = cp.Variable([N,lenf])\n",
    "objective = cp.Minimize(cp.normNuc(Yapp))\n",
    "constraints = [cp.norm((Y[:lenf]-Yapp[:lenf])) <= e]\n",
    "prob = cp.Problem(objective, constraints)\n",
    "result = prob.solve()\n",
    "#return result"
   ]
  },
  {
   "cell_type": "code",
   "execution_count": 67,
   "id": "988e810e",
   "metadata": {},
   "outputs": [
    {
     "data": {
      "text/plain": [
       "0.0"
      ]
     },
     "execution_count": 67,
     "metadata": {},
     "output_type": "execute_result"
    }
   ],
   "source": [
    "result"
   ]
  },
  {
   "cell_type": "code",
   "execution_count": 91,
   "id": "45188134",
   "metadata": {},
   "outputs": [
    {
     "data": {
      "text/plain": [
       "(33,)"
      ]
     },
     "execution_count": 91,
     "metadata": {},
     "output_type": "execute_result"
    }
   ],
   "source": [
    "np.sqrt(wF).shape"
   ]
  },
  {
   "cell_type": "code",
   "execution_count": 93,
   "id": "81b0d90b",
   "metadata": {},
   "outputs": [
    {
     "data": {
      "text/plain": [
       "(50,)"
      ]
     },
     "execution_count": 93,
     "metadata": {},
     "output_type": "execute_result"
    }
   ],
   "source": [
    "(Y[:N]-x[:N]).shape"
   ]
  },
  {
   "cell_type": "code",
   "execution_count": 57,
   "id": "be87873c",
   "metadata": {
    "scrolled": false
   },
   "outputs": [
    {
     "data": {
      "text/plain": [
       "Expression(CONVEX, NONNEGATIVE, ())"
      ]
     },
     "execution_count": 57,
     "metadata": {},
     "output_type": "execute_result"
    }
   ],
   "source": [
    "cp.normNuc(scipy.linalg.hankel(x[:L],x[L:N+m])[0][0])"
   ]
  },
  {
   "cell_type": "code",
   "execution_count": 56,
   "id": "58940c37",
   "metadata": {},
   "outputs": [
    {
     "data": {
      "text/plain": [
       "Expression(AFFINE, UNKNOWN, (10,))"
      ]
     },
     "execution_count": 56,
     "metadata": {},
     "output_type": "execute_result"
    }
   ],
   "source": [
    "scipy.linalg.hankel(x[:L])[0][0]"
   ]
  },
  {
   "cell_type": "code",
   "execution_count": 58,
   "id": "42a9096b",
   "metadata": {},
   "outputs": [
    {
     "data": {
      "text/plain": [
       "array([Expression(AFFINE, UNKNOWN, (10,))], dtype=object)"
      ]
     },
     "execution_count": 58,
     "metadata": {},
     "output_type": "execute_result"
    }
   ],
   "source": [
    "scipy.linalg.hankel(x[:L])[0]"
   ]
  },
  {
   "cell_type": "code",
   "execution_count": 60,
   "id": "7afc54e1",
   "metadata": {},
   "outputs": [
    {
     "data": {
      "text/plain": [
       "array([[Expression(AFFINE, UNKNOWN, (10,))]], dtype=object)"
      ]
     },
     "execution_count": 60,
     "metadata": {},
     "output_type": "execute_result"
    }
   ],
   "source": [
    "scipy.linalg.hankel(x[:L])"
   ]
  },
  {
   "cell_type": "code",
   "execution_count": 63,
   "id": "73807351",
   "metadata": {},
   "outputs": [
    {
     "data": {
      "text/plain": [
       "array([Expression(AFFINE, UNKNOWN, (10,))], dtype=object)"
      ]
     },
     "execution_count": 63,
     "metadata": {},
     "output_type": "execute_result"
    }
   ],
   "source": [
    "scipy.linalg.hankel(x[:L])[0]"
   ]
  },
  {
   "cell_type": "code",
   "execution_count": 64,
   "id": "887bbcd5",
   "metadata": {},
   "outputs": [
    {
     "data": {
      "text/plain": [
       "Expression(AFFINE, UNKNOWN, (10,))"
      ]
     },
     "execution_count": 64,
     "metadata": {},
     "output_type": "execute_result"
    }
   ],
   "source": [
    "x[:L]"
   ]
  },
  {
   "cell_type": "code",
   "execution_count": 15,
   "id": "78a9c892",
   "metadata": {
    "scrolled": false
   },
   "outputs": [],
   "source": [
    "N=len(Y);\n",
    "#cvx_begin sdp;\n",
    "#%cvx_solver mosek;\n",
    "#%cvx_precision low;\n",
    "#Yapp = cp.Variable(N);\n",
    "#objective = cp.Minimize(cp.normNuc(scipy.linalg.hankel(Yapp[:L],Yapp[L:N])[0][0]))\n",
    "#constraints = cp.norm(np.sqrt(wF) @ (Y-Yapp)) <=e \n",
    "#prob = cp.Problem(objective, constraints)\n",
    "#result = prob.solve()\n",
    "#return result"
   ]
  },
  {
   "cell_type": "code",
   "execution_count": 11,
   "id": "65b321a6",
   "metadata": {},
   "outputs": [
    {
     "name": "stdout",
     "output_type": "stream",
     "text": [
      "[0. 0. 0. 0. 0. 0. 0. 0. 0. 0. 0. 0. 0. 0. 0. 0. 0. 0. 0. 0.]\n",
      "[0. 0. 0. 0. 0. 0. 0. 0. 0. 0. 0. 0. 0. 0. 0. 0. 0. 0. 0. 0.]\n"
     ]
    }
   ],
   "source": [
    "m = 30\n",
    "n = 20\n",
    "np.random.seed(1)\n",
    "A = np.random.randn(m, n)\n",
    "b = np.random.randn(m)\n",
    "\n",
    "# Construct the problem.\n",
    "x = cp.Variable(n)\n",
    "objective = cp.Minimize(cp.sum_squares(x))\n",
    "constraints = [0 <= x]\n",
    "prob = cp.Problem(objective, constraints)\n",
    "\n",
    "# The optimal objective value is returned by `prob.solve()`.\n",
    "result = prob.solve()\n",
    "# The optimal value for x is stored in `x.value`.\n",
    "print(x.value)\n",
    "# The optimal Lagrange multiplier for a constraint is stored in\n",
    "# `constraint.dual_value`.\n",
    "print(constraints[0].dual_value)"
   ]
  },
  {
   "cell_type": "code",
   "execution_count": 12,
   "id": "bf9dfcd6",
   "metadata": {},
   "outputs": [
    {
     "name": "stdout",
     "output_type": "stream",
     "text": [
      "[array([Expression(AFFINE, UNKNOWN, (10,)),\n",
      "       Expression(AFFINE, UNKNOWN, (10,))], dtype=object), array([Expression(AFFINE, UNKNOWN, (9,)),\n",
      "       Expression(AFFINE, UNKNOWN, (11,))], dtype=object), array([Expression(AFFINE, UNKNOWN, (8,)),\n",
      "       Expression(AFFINE, UNKNOWN, (12,))], dtype=object), array([Expression(AFFINE, UNKNOWN, (7,)),\n",
      "       Expression(AFFINE, UNKNOWN, (13,))], dtype=object), array([Expression(AFFINE, UNKNOWN, (6,)),\n",
      "       Expression(AFFINE, UNKNOWN, (14,))], dtype=object), array([Expression(AFFINE, UNKNOWN, (5,)),\n",
      "       Expression(AFFINE, UNKNOWN, (15,))], dtype=object), array([Expression(AFFINE, UNKNOWN, (4,)),\n",
      "       Expression(AFFINE, UNKNOWN, (16,))], dtype=object), array([Expression(AFFINE, UNKNOWN, (3,)),\n",
      "       Expression(AFFINE, UNKNOWN, (17,))], dtype=object), array([Expression(AFFINE, UNKNOWN, (2,)),\n",
      "       Expression(AFFINE, UNKNOWN, (18,))], dtype=object), array([Expression(AFFINE, UNKNOWN, (1,)),\n",
      "       Expression(AFFINE, UNKNOWN, (19,))], dtype=object)]\n"
     ]
    },
    {
     "ename": "NameError",
     "evalue": "name 'w' is not defined",
     "output_type": "error",
     "traceback": [
      "\u001b[0;31m---------------------------------------------------------------------------\u001b[0m",
      "\u001b[0;31mNameError\u001b[0m                                 Traceback (most recent call last)",
      "\u001b[0;32m/tmp/ipykernel_7377/2901273395.py\u001b[0m in \u001b[0;36m<module>\u001b[0;34m\u001b[0m\n\u001b[1;32m      2\u001b[0m \u001b[0mYapp\u001b[0m \u001b[0;34m=\u001b[0m \u001b[0mcp\u001b[0m\u001b[0;34m.\u001b[0m\u001b[0mVariable\u001b[0m\u001b[0;34m(\u001b[0m\u001b[0mN\u001b[0m\u001b[0;34m)\u001b[0m\u001b[0;34m\u001b[0m\u001b[0;34m\u001b[0m\u001b[0m\n\u001b[1;32m      3\u001b[0m \u001b[0mobjective\u001b[0m \u001b[0;34m=\u001b[0m \u001b[0mcp\u001b[0m\u001b[0;34m.\u001b[0m\u001b[0mMinimize\u001b[0m\u001b[0;34m(\u001b[0m\u001b[0mcp\u001b[0m\u001b[0;34m.\u001b[0m\u001b[0mnormNuc\u001b[0m\u001b[0;34m(\u001b[0m\u001b[0mcphanker\u001b[0m\u001b[0;34m(\u001b[0m\u001b[0mYapp\u001b[0m\u001b[0;34m[\u001b[0m\u001b[0;34m:\u001b[0m\u001b[0mL\u001b[0m\u001b[0;34m]\u001b[0m\u001b[0;34m,\u001b[0m\u001b[0mYapp\u001b[0m\u001b[0;34m[\u001b[0m\u001b[0mL\u001b[0m\u001b[0;34m:\u001b[0m\u001b[0mN\u001b[0m\u001b[0;34m]\u001b[0m\u001b[0;34m)\u001b[0m\u001b[0;34m)\u001b[0m\u001b[0;34m)\u001b[0m\u001b[0;34m\u001b[0m\u001b[0;34m\u001b[0m\u001b[0m\n\u001b[0;32m----> 4\u001b[0;31m \u001b[0mconstraints\u001b[0m \u001b[0;34m=\u001b[0m \u001b[0mcp\u001b[0m\u001b[0;34m.\u001b[0m\u001b[0mnorm\u001b[0m\u001b[0;34m(\u001b[0m\u001b[0msqrt\u001b[0m\u001b[0;34m[\u001b[0m\u001b[0mw\u001b[0m\u001b[0;34m]\u001b[0m\u001b[0;34m*\u001b[0m\u001b[0;34m(\u001b[0m\u001b[0mY\u001b[0m\u001b[0;34m-\u001b[0m\u001b[0mYapp\u001b[0m\u001b[0;34m)\u001b[0m\u001b[0;34m)\u001b[0m \u001b[0;34m<=\u001b[0m\u001b[0me\u001b[0m\u001b[0;34m\u001b[0m\u001b[0;34m\u001b[0m\u001b[0m\n\u001b[0m\u001b[1;32m      5\u001b[0m \u001b[0mprob\u001b[0m \u001b[0;34m=\u001b[0m \u001b[0mcp\u001b[0m\u001b[0;34m.\u001b[0m\u001b[0mProblem\u001b[0m\u001b[0;34m(\u001b[0m\u001b[0mobjective\u001b[0m\u001b[0;34m,\u001b[0m \u001b[0mconstraints\u001b[0m\u001b[0;34m)\u001b[0m\u001b[0;34m\u001b[0m\u001b[0;34m\u001b[0m\u001b[0m\n\u001b[1;32m      6\u001b[0m \u001b[0mresult\u001b[0m \u001b[0;34m=\u001b[0m \u001b[0mprob\u001b[0m\u001b[0;34m.\u001b[0m\u001b[0msolve\u001b[0m\u001b[0;34m(\u001b[0m\u001b[0;34m)\u001b[0m\u001b[0;34m\u001b[0m\u001b[0;34m\u001b[0m\u001b[0m\n",
      "\u001b[0;31mNameError\u001b[0m: name 'w' is not defined"
     ]
    }
   ],
   "source": [
    "N=len(Y)\n",
    "Yapp = cp.Variable(N)\n",
    "objective = cp.Minimize(cp.normNuc(cphanker(Yapp[:L],Yapp[L:N])))\n",
    "constraints = cp.norm(sqrt[w]*(Y-Yapp)) <=e \n",
    "prob = cp.Problem(objective, constraints)\n",
    "result = prob.solve()\n",
    "return result"
   ]
  },
  {
   "cell_type": "code",
   "execution_count": 35,
   "id": "4d04c888",
   "metadata": {},
   "outputs": [],
   "source": [
    "slh = scipy.linalg.hankel(Y[:L],Y[L:N])"
   ]
  },
  {
   "cell_type": "code",
   "execution_count": 32,
   "id": "53bfbe14",
   "metadata": {},
   "outputs": [
    {
     "data": {
      "text/plain": [
       "array([[Expression(AFFINE, UNKNOWN, (5,))]], dtype=object)"
      ]
     },
     "execution_count": 32,
     "metadata": {},
     "output_type": "execute_result"
    }
   ],
   "source": [
    "scipy.linalg.hankel(Yapp[:L],Yapp[L:N])"
   ]
  },
  {
   "cell_type": "code",
   "execution_count": 42,
   "id": "347c25ec",
   "metadata": {},
   "outputs": [
    {
     "data": {
      "text/plain": [
       "(5,)"
      ]
     },
     "execution_count": 42,
     "metadata": {},
     "output_type": "execute_result"
    }
   ],
   "source": [
    "Y[:L].shape"
   ]
  },
  {
   "cell_type": "code",
   "execution_count": 43,
   "id": "1be1218e",
   "metadata": {},
   "outputs": [
    {
     "data": {
      "text/plain": [
       "(10,)"
      ]
     },
     "execution_count": 43,
     "metadata": {},
     "output_type": "execute_result"
    }
   ],
   "source": [
    "Y[L:N].shape"
   ]
  },
  {
   "cell_type": "code",
   "execution_count": 108,
   "id": "64ed901f",
   "metadata": {},
   "outputs": [],
   "source": [
    "row = Y[:L]\n",
    "reman = Y[L:N]"
   ]
  },
  {
   "cell_type": "code",
   "execution_count": 72,
   "id": "9c018f17",
   "metadata": {},
   "outputs": [],
   "source": [
    "row = np.array([1,2,3])\n",
    "reman = np.array([9,8,7,6,5])"
   ]
  },
  {
   "cell_type": "code",
   "execution_count": 73,
   "id": "86266a5b",
   "metadata": {},
   "outputs": [
    {
     "data": {
      "text/plain": [
       "array([[1, 2, 3, 8, 7],\n",
       "       [2, 3, 8, 7, 6],\n",
       "       [3, 8, 7, 6, 5]])"
      ]
     },
     "execution_count": 73,
     "metadata": {},
     "output_type": "execute_result"
    }
   ],
   "source": [
    "scipy.linalg.hankel"
   ]
  },
  {
   "cell_type": "code",
   "execution_count": 74,
   "id": "4c19b368",
   "metadata": {},
   "outputs": [
    {
     "data": {
      "text/plain": [
       "(5, 10)"
      ]
     },
     "execution_count": 74,
     "metadata": {},
     "output_type": "execute_result"
    }
   ],
   "source": [
    "slh.shape"
   ]
  },
  {
   "cell_type": "code",
   "execution_count": 115,
   "id": "a36612b4",
   "metadata": {},
   "outputs": [],
   "source": [
    "def hanker(row,reman):\n",
    "    hank = []\n",
    "    xi = row.shape[0]\n",
    "    for i in range(xi):\n",
    "        hank.append(np.append(row[:xi-i],reman[1:xi+i+1]))\n",
    "    return np.array(hank)"
   ]
  },
  {
   "cell_type": "code",
   "execution_count": 128,
   "id": "6c76df5f",
   "metadata": {},
   "outputs": [],
   "source": [
    "f = hanker(Yapp[:L],Yapp[L:N])"
   ]
  },
  {
   "cell_type": "code",
   "execution_count": 122,
   "id": "36e22a3f",
   "metadata": {},
   "outputs": [
    {
     "data": {
      "text/plain": [
       "array([[Expression(AFFINE, UNKNOWN, (5,))]], dtype=object)"
      ]
     },
     "execution_count": 122,
     "metadata": {},
     "output_type": "execute_result"
    }
   ],
   "source": [
    "scipy.linalg.hankel(Yapp[:L],Yapp[L:N])"
   ]
  },
  {
   "cell_type": "code",
   "execution_count": 8,
   "id": "32b9a31a",
   "metadata": {},
   "outputs": [],
   "source": [
    "def cphanker(row,reman):\n",
    "    hank = []\n",
    "    xi = row.shape[0]\n",
    "    for i in range(xi):\n",
    "        hank.append(np.append(row[:xi-i],reman[1:xi+i+1]))\n",
    "    print(hank)\n",
    "    return cp.bmat(hank)"
   ]
  },
  {
   "cell_type": "code",
   "execution_count": 130,
   "id": "a54a4ba4",
   "metadata": {
    "scrolled": true
   },
   "outputs": [
    {
     "data": {
      "text/plain": [
       "Expression(AFFINE, UNKNOWN, (5, 10))"
      ]
     },
     "execution_count": 130,
     "metadata": {},
     "output_type": "execute_result"
    }
   ],
   "source": [
    "cp.bmat(f)zzzz"
   ]
  },
  {
   "cell_type": "code",
   "execution_count": null,
   "id": "877a164b",
   "metadata": {},
   "outputs": [],
   "source": []
  }
 ],
 "metadata": {
  "kernelspec": {
   "display_name": "Python 3 (ipykernel)",
   "language": "python",
   "name": "python3"
  },
  "language_info": {
   "codemirror_mode": {
    "name": "ipython",
    "version": 3
   },
   "file_extension": ".py",
   "mimetype": "text/x-python",
   "name": "python",
   "nbconvert_exporter": "python",
   "pygments_lexer": "ipython3",
   "version": "3.10.4"
  }
 },
 "nbformat": 4,
 "nbformat_minor": 5
}
